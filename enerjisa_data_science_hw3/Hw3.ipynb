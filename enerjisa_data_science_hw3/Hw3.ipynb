{
 "cells": [
  {
   "cell_type": "markdown",
   "id": "712c94c3",
   "metadata": {},
   "source": [
    "# EnerjiSA Veri Bilimi ve Analitiği Bootcamp - Ödev3"
   ]
  },
  {
   "cell_type": "markdown",
   "id": "c7476ad9",
   "metadata": {},
   "source": [
    "# 1. One hot encoding modelin görmediği veriye nasıl uygulanır?"
   ]
  },
  {
   "cell_type": "markdown",
   "id": "cabfe9e0",
   "metadata": {},
   "source": [
    "Data setimizde numerik ve kategorik değişkenler bulunur. Kategorik değişkenlerin modelleme aşamasında doğru etkiyi gösterebilmesi için bu değişkenleri sayısallaştırmak adına farklı yöntemler uygulanır. Bu yöntemlerden biri olan one hot encoding, veri setindeki kategorik verilere uygulanan ve bunları makine öğrenimi algoritmalarında kullanılmak üzere ikili(binary) vektör gösterimine dönüştüren bir süreçtir.\n",
    "\n",
    "<img src=\"ohe2.png\" style = \"width: auto; height: 250px\">"
   ]
  },
  {
   "cell_type": "markdown",
   "id": "3bae2613",
   "metadata": {},
   "source": [
    "One hot encoding'te modelin görmediği verilere özel bir kategori yapılır ve bu kategorideki veriler \"ignore\" olarak ayarlayarak işlenir. Bu parametre \"ignore\" olarak ayarlandığında ve dönüştürme sırasında bilinmeyen bir kategoriyle karşılaşıldığında, bu özellik için elde edilen tek etkin kodlanmış sütunların tümü 0(sıfır) olacaktır. Ters dönüşümde, bilinmeyen bir kategori Yok olarak gösterilecektir."
   ]
  },
  {
   "cell_type": "markdown",
   "id": "5f2d4505",
   "metadata": {},
   "source": [
    "##### \" handle_unknown{‘error’, ‘ignore’}, default=’error’\n",
    "\n",
    "##### Whether to raise an error or ignore if an unknown categorical feature is present during transform (default is to raise). When this parameter is set to ‘ignore’ and an unknown category is encountered during transform, the resulting one-hot encoded columns for this feature will be all zeros. In the inverse transform, an unknown category will be denoted as None.  \"\n",
    "\n",
    "###### Kaynak: (https://scikit-learn.org/stable/modules/generated/sklearn.preprocessing.OneHotEncoder.html)"
   ]
  },
  {
   "cell_type": "markdown",
   "metadata": {},
   "source": [
    "---------------"
   ]
  },
  {
   "cell_type": "markdown",
   "id": "6a272851",
   "metadata": {},
   "source": [
    "# 2. Label Encoding'de ilgili kolon için ölçeklendirme nasıl yapılır? (Verinin doğru etkisiyle sayısal olarak dönüştürülmesi)"
   ]
  },
  {
   "cell_type": "markdown",
   "id": "910ffbc4",
   "metadata": {},
   "source": [
    "Data setimizde bulunanan kategorik verilerin anlamlı sayısal değerlere dönüştürülmesinin bir diğer yöntemi label encoding'dir. Bu yöntemle kategorik değişkenler farklı sayılara atanır ve sayısal değerleri ölçüsünde yorum yapılır. Örneğin 3 değeri verilen değişken 1 değeri verilen değişkenden daha etkilidir denebilir. Örnek verecek olursak;\n",
    "\n",
    "<img src=\"lenc3.png\" style = \"width: auto; height: auto\"> "
   ]
  },
  {
   "cell_type": "markdown",
   "id": "9545cf40",
   "metadata": {},
   "source": [
    "Örnekte olduğu gibi data setinde bulunan eğitim durumu bilgisi eğitim seviyelerine göre numaralandırılabilir. Bu sayede tablodaki en yüksek eğitim durumu bilgisi olan doktora en yüksek sayısal değeri alır ve makine öğrenmesine bu yönde katkı sağlayabilir."
   ]
  },
  {
   "cell_type": "markdown",
   "id": "595a4657",
   "metadata": {},
   "source": [
    "Başka bir örneğe bakacak olursak; \n",
    "\n",
    "<img src=\"lenc4.png\" style = \"width: auto; height: auto\">\n",
    "\n",
    "Poor, good, very good ve excellent olarak belirlenmiş kategorik değişkenlerin sayısallaştırılmasında poor 1, good 2, very good 3 ve excellent 4 değeri ile sayısallaştırıldığında veri setimize doğru beslemeyi yapmış olacağız.\n",
    "\n",
    "Python'da label encoding için LabelEncoder kullanılır. Örneğin aşağıdaki örnekte verilen sütun değerleri alfabetik olarak label encoding işleminden geçirilmiştir. "
   ]
  },
  {
   "cell_type": "code",
   "execution_count": 38,
   "id": "eb353dc0",
   "metadata": {},
   "outputs": [
    {
     "data": {
      "text/html": [
       "<div>\n",
       "<style scoped>\n",
       "    .dataframe tbody tr th:only-of-type {\n",
       "        vertical-align: middle;\n",
       "    }\n",
       "\n",
       "    .dataframe tbody tr th {\n",
       "        vertical-align: top;\n",
       "    }\n",
       "\n",
       "    .dataframe thead th {\n",
       "        text-align: right;\n",
       "    }\n",
       "</style>\n",
       "<table border=\"1\" class=\"dataframe\">\n",
       "  <thead>\n",
       "    <tr style=\"text-align: right;\">\n",
       "      <th></th>\n",
       "      <th>Bridge_Types</th>\n",
       "      <th>Bridge_Types_Cat</th>\n",
       "    </tr>\n",
       "  </thead>\n",
       "  <tbody>\n",
       "    <tr>\n",
       "      <th>0</th>\n",
       "      <td>Arch</td>\n",
       "      <td>0</td>\n",
       "    </tr>\n",
       "    <tr>\n",
       "      <th>1</th>\n",
       "      <td>Beam</td>\n",
       "      <td>1</td>\n",
       "    </tr>\n",
       "    <tr>\n",
       "      <th>2</th>\n",
       "      <td>Truss</td>\n",
       "      <td>6</td>\n",
       "    </tr>\n",
       "    <tr>\n",
       "      <th>3</th>\n",
       "      <td>Cantilever</td>\n",
       "      <td>3</td>\n",
       "    </tr>\n",
       "    <tr>\n",
       "      <th>4</th>\n",
       "      <td>Tied Arch</td>\n",
       "      <td>5</td>\n",
       "    </tr>\n",
       "    <tr>\n",
       "      <th>5</th>\n",
       "      <td>Suspension</td>\n",
       "      <td>4</td>\n",
       "    </tr>\n",
       "    <tr>\n",
       "      <th>6</th>\n",
       "      <td>Cable</td>\n",
       "      <td>2</td>\n",
       "    </tr>\n",
       "  </tbody>\n",
       "</table>\n",
       "</div>"
      ],
      "text/plain": [
       "  Bridge_Types  Bridge_Types_Cat\n",
       "0         Arch                 0\n",
       "1         Beam                 1\n",
       "2        Truss                 6\n",
       "3   Cantilever                 3\n",
       "4    Tied Arch                 5\n",
       "5   Suspension                 4\n",
       "6        Cable                 2"
      ]
     },
     "execution_count": 38,
     "metadata": {},
     "output_type": "execute_result"
    }
   ],
   "source": [
    "import pandas as pd\n",
    "import numpy as np\n",
    "from sklearn.preprocessing import OrdinalEncoder\n",
    "from sklearn.preprocessing import LabelEncoder\n",
    "# creating initial dataframe\n",
    "bridge_types = ('Arch','Beam','Truss','Cantilever','Tied Arch','Suspension','Cable')\n",
    "bridge_df = pd.DataFrame(bridge_types, columns=['Bridge_Types'])\n",
    "# creating instance of labelencoder\n",
    "labelencoder = LabelEncoder()\n",
    "# Assigning numerical values and storing in another column\n",
    "bridge_df['Bridge_Types_Cat'] = labelencoder.fit_transform(bridge_df['Bridge_Types'])\n",
    "bridge_df"
   ]
  },
  {
   "cell_type": "markdown",
   "metadata": {},
   "source": [
    "--------------------------"
   ]
  },
  {
   "cell_type": "markdown",
   "id": "464c8238",
   "metadata": {},
   "source": [
    "# 3. Imbalanced data sette train test split yaparken neleri göz önünde bulundurmalıyız?"
   ]
  },
  {
   "cell_type": "markdown",
   "id": "7f749ad5",
   "metadata": {},
   "source": [
    "Imbalanced veri setleri makine öğreniminde yaygın bir sorundur. Çoğu makine öğrenimi algoritması, her sınıftaki örnek sayısı hemen hemen eşit olduğunda en iyi sonucu verir. Bunun nedeni, çoğu algoritmanın doğruluğu en üst düzeye çıkarmak ve hatayı azaltmak için tasarlanmış olmasıdır.\n",
    "\n",
    "Imbalanced data setlerde ilk önce perferomans metriklerinin değiştirilmesi ele alınır. Confusion matrix, precision değerleri ile f1_score ve recall_score değerleri çıkarılır ve yorumlamalar yapılır. Burada elde edilen değerlerin kesinliği belirlenir. Doğru sonuçlar elde edilemediği takdirde diğer aşamaya geçilir.\n",
    "\n",
    "İkinci bir yöntem mevcut algoritmayı değiştirmek olabilir. Her veri setinde doğru sonuca ulaşabilmek için elbette birden fazla algoritma denenmeli ama imbalanced data setlerde bu durum daha önemlidir. Özellikle de decision tree ve random forest algoritmaları imbalanced data setlerde daha yararlı sonuçlar verebilmektedir.\n",
    "\n",
    "Bir diğer yöntem olarak, imbalanced data setlerinde Resampling Technique kullanılabilir. Yeniden örnekleme olarak Türkçeye çevirebileceğimz bu teknikte iki ayrı metot vardır. Birincisi over sampling; data sette nispeten daha azınlıkta bulunan verilerin kopyalarının eklenmesi ile yapılır. Bu yöntem çalışmak için elimizde yeterli veri bulunmadığında işe yarayabilir,daha fazla örnekleme altında daha iyi performans gösterebilir. Ancak elimizde zaten fazlaca veri olduğunda zaman kaybı olacaktır. Diğer yöntem \n",
    "under sampling; data setinde çoğunlukta bulunan verilerden bazılarının kaldırılması yöntemidir. Bu yöntem train veri seti çok büyük olduğunda train verisi örneklerinin sayısını azaltarak çalışma süresini ve depolama sorunlarını iyileştirmeye yardımcı olabilir. Ancak veri çıkarma işlemi yapılırken yanlışlıkla önemli verilerin çıkarılması ve rastgele çıkarılan değerler sonucunda bias'li bir data sete sahip olma ihtimali bu yöntemin dezavantajlarındandır.\n",
    "\n",
    "<img src=\"ous.png\" style = \"width: auto; height: 250px\">\n"
   ]
  },
  {
   "cell_type": "markdown",
   "id": "10757f96",
   "metadata": {},
   "source": [
    "Diğer bir yöntem ise SMOTE olarak kısaltılan Synthetic Minority Oversampling Technique'tir. SMOTE, modelimizi eğitmek için kullanabileceğimiz yeni ve sentetik veriler oluşturmak için K-neighbors algoritmasını kullanır. Bu yöntemle örneklerin çoğaltılması yerine sentetik örnekler oluşturulduğundan, rastgele aşırı örneklemenin neden olduğu aşırı uyum sorununu azaltır ve undersampling 'de olduğu gibi yararlı bilgilerin kaybolma ihtimali yoktur.\n",
    "\n",
    "<img src=\"smote.png\" style = \"width: auto; height: 250px\">\n"
   ]
  },
  {
   "cell_type": "markdown",
   "metadata": {},
   "source": [
    "---------------------------"
   ]
  },
  {
   "cell_type": "markdown",
   "id": "42da5334",
   "metadata": {},
   "source": [
    "# 4. Validation Data Seti (Modelin görmediği) nasıl oluşturulur ve nasıl predict etmeye hazır hale getirilir?"
   ]
  },
  {
   "cell_type": "markdown",
   "id": "1fff4b9c",
   "metadata": {},
   "source": [
    "\n",
    "<img src=\"dataset_split.png\" style = \"width: auto; height: 150px\">\n",
    "\n",
    "Validation Data Set, train sırasında model performansımızı doğrulamak için kullanılan train setinden ayrı bir veri setidir. Modelin hiperparametrelerini ve konfigürasyonlarını buna göre ayarlamamıza yardımcı olan bilgiler verir. Train'in doğru yönde ilerleyip ilerlemediğini bize söyler. Validation set oluşturulurken veri seti önce rastgele %80-%20 gibi bir oranla train ve test olarak ayrılır. Sonrasında train olarak ayrılmış alan tekrar aynı oranda train ve validation olarak ayrılır. İlk başta ayrılan test data setinde doğru sonuçlar elde edebilmek için validation datasetinde model parametrelerinin optimizasyonu yapılır. Bu ayrıma k-fold cross validation denir.\n",
    "\n",
    "<img src=\"valid.png\" style = \"width: auto; height: 500px\">\n",
    "\n",
    " Cross-validation, makine öğrenmesi modelinin görmediği veriler üzerindeki performansını mümkün olduğunca objektif ve doğru bir şekilde değerlendirmek için kullanılan istatistiksel bir yeniden örnekleme(resampling) yöntemidir. Aşağıdaki adımlar takip edilerek data predict'e hazır hale getirilir;\n",
    " \n",
    "  - Veri seti rastgele olacak şekilde karıştırılır. (opsiyonel)\n",
    "  - Veri seti k gruba ayrılır.\n",
    "  - Her grup icin aşağıdaki adımlar uygulanır :\n",
    "  - Seçilen grup validasyon seti olarak kullanılır.\n",
    "  - Diğer tüm gruplar (k-1 grup) train seti olarak kullanılır.\n",
    "  - Train seti kullanılarak model kurulur ve validasyon seti ile değerlendirilir.\n",
    "  - Modelin değerlendirme puanı bir listede saklanır.\n"
   ]
  },
  {
   "cell_type": "markdown",
   "metadata": {},
   "source": [
    "---------------------------"
   ]
  },
  {
   "cell_type": "markdown",
   "id": "1efad19c",
   "metadata": {},
   "source": [
    "# 5.  predict_proba metoduyla oran nasıl hesaplanır ve threshold nasıl değiştirilir?"
   ]
  },
  {
   "cell_type": "markdown",
   "metadata": {},
   "source": [
    "Scikit-learn kütüphanesinin bir methodu olan predict; regresyon, sınıflandırma, kümeleme gibi yöntemler kullanarak yapılan çalışmalarda tahmin edilen etiket bilgisini elde etmeye yarar.\n",
    "Sınıflandırma problemlerinde gözlemlerin sınıflara ait olma olasılıklarının hesaplanmasında da predict_proba fonksiyonunun kullanılır.\n",
    "\n",
    "\n",
    "Sentetik classification problemimize bir lojistik regresyon modeli yerleştirebilir, ardından calss label'ı tahmin edebilir ve precision ve recall'ın harmonik ortalaması olan F-Measure'ı kullanarak bunları değerlendirebiliriz. Bu, lojistik regresyon modeli tarafından tahmin edilen olasılıkları yorumlarken 0,5 varsayılan eşiğini kullanacaktır."
   ]
  },
  {
   "cell_type": "code",
   "execution_count": 56,
   "metadata": {},
   "outputs": [
    {
     "name": "stdout",
     "output_type": "stream",
     "text": [
      "F-Score: 0.70130\n"
     ]
    }
   ],
   "source": [
    "\n",
    "# logistic regression for imbalanced classification\n",
    "from sklearn.datasets import make_classification\n",
    "from sklearn.linear_model import LogisticRegression\n",
    "from sklearn.model_selection import train_test_split\n",
    "from sklearn.metrics import f1_score\n",
    "import numpy as np\n",
    "# generate dataset\n",
    "X, y = make_classification(n_samples=10000, n_features=2, n_redundant=0,\n",
    "\tn_clusters_per_class=1, weights=[0.99], flip_y=0, random_state=4)\n",
    "# split into train/test sets\n",
    "trainX, testX, trainy, testy = train_test_split(X, y, test_size=0.5, random_state=2, stratify=y)\n",
    "# fit a model\n",
    "model = LogisticRegression(solver='lbfgs')\n",
    "model.fit(trainX, trainy)\n",
    "# predict labels\n",
    "yhat = model.predict(testX)\n",
    "# evaluate the model\n",
    "score = f1_score(testy, yhat)\n",
    "print('F-Score: %.5f' % score)"
   ]
  },
  {
   "cell_type": "markdown",
   "metadata": {},
   "source": [
    "Artık aynı modeli aynı veri setinde kullanabiliriz ve sınıf etiketlerini doğrudan tahmin etmek yerine olasılıkları tahmin edebiliriz."
   ]
  },
  {
   "cell_type": "code",
   "execution_count": 57,
   "metadata": {},
   "outputs": [],
   "source": [
    "...\n",
    "# predict probabilities\n",
    "yhat = model.predict_proba(testX)"
   ]
  },
  {
   "cell_type": "markdown",
   "metadata": {},
   "source": [
    "Sadece pozitif sınıf için olasılıklara ihtiyacımız var."
   ]
  },
  {
   "cell_type": "code",
   "execution_count": 58,
   "metadata": {},
   "outputs": [],
   "source": [
    "# keep probabilities for the positive outcome only\n",
    "probs = yhat[:, 1]"
   ]
  },
  {
   "cell_type": "markdown",
   "metadata": {},
   "source": [
    "Olasılıkları değerlendirmek için bir dizi eşik tanımlayabiliriz. Bu durumda, 0.001 adım boyutuyla 0.0 ile 1.0 arasındaki tüm eşikleri test edeceğiz, yani 0.0, 0.001, 0.002, 0.003 ve böylece 0.999'a kadar test edeceğiz."
   ]
  },
  {
   "cell_type": "code",
   "execution_count": 59,
   "metadata": {},
   "outputs": [],
   "source": [
    "# define thresholds\n",
    "thresholds = np.arange(0, 1, 0.001)"
   ]
  },
  {
   "cell_type": "markdown",
   "metadata": {},
   "source": [
    "Tahmin edilen olasılıkları yorumlamak için tek bir threshold kullanma yoluna ihtiyacımız var. Bu, threshold'a eşit veya daha büyük tüm değerleri 1'e ve threshold'dan küçük tüm değerleri 0'a eşleyerek başarılabilir. Bunu yapmak için, olasılıkları ve threshold'u bir argüman olarak alacak ve geri dönecek bir to_labels() işlevi tanımlayacağız."
   ]
  },
  {
   "cell_type": "code",
   "execution_count": 60,
   "metadata": {},
   "outputs": [],
   "source": [
    "# apply threshold to positive probabilities to create labels\n",
    "def to_labels(pos_probs, threshold):\n",
    "\treturn (pos_probs >= threshold).astype('int')"
   ]
  },
  {
   "cell_type": "markdown",
   "metadata": {},
   "source": [
    "Daha sonra her threshold için bu işlevi çağırabilir ve f1_score() kullanarak elde edilen labelları değerlendirebiliriz."
   ]
  },
  {
   "cell_type": "code",
   "execution_count": 61,
   "metadata": {},
   "outputs": [],
   "source": [
    "# evaluate each threshold\n",
    "scores = [f1_score(testy, to_labels(probs, t)) for t in thresholds]"
   ]
  },
  {
   "cell_type": "code",
   "execution_count": 63,
   "metadata": {},
   "outputs": [
    {
     "name": "stdout",
     "output_type": "stream",
     "text": [
      "Threshold=0.251, F-Score=0.75556\n"
     ]
    }
   ],
   "source": [
    "# get best threshold\n",
    "ix = np.argmax(scores)\n",
    "print('Threshold=%.3f, F-Score=%.5f' % (thresholds[ix], scores[ix]))"
   ]
  },
  {
   "cell_type": "markdown",
   "metadata": {},
   "source": [
    "-------------------------------------------------"
   ]
  },
  {
   "cell_type": "markdown",
   "metadata": {},
   "source": [
    "# 6.  Fraud case'i üzerinde train&test&validation split, encoding, scaling,modelleme çalışmaları Python'da yapılarak, modelin görmediği dataset üzerinde başarılı sonuç alacak bir model örneği yapılmalı."
   ]
  },
  {
   "cell_type": "code",
   "execution_count": 137,
   "id": "74ae1ab2",
   "metadata": {},
   "outputs": [],
   "source": [
    "# importing libraries\n",
    "import numpy as np \n",
    "import pandas as pd \n",
    "import datetime as dt\n",
    "import plotly.express as px\n",
    "import plotly.graph_objects as go\n",
    "import seaborn as sns\n",
    "\n",
    "#ml\n",
    "from sklearn.model_selection import train_test_split\n",
    "from sklearn.linear_model import LogisticRegression\n",
    "from sklearn.metrics import classification_report\n",
    "from sklearn.tree import DecisionTreeClassifier\n",
    "from sklearn.metrics import accuracy_score\n",
    "from sklearn.model_selection import GridSearchCV\n",
    "from sklearn.svm import SVC\n",
    "from sklearn.metrics import confusion_matrix\n",
    "\n",
    "from imblearn.over_sampling import SMOTE\n",
    "from imblearn.under_sampling import RandomUnderSampler\n",
    "from imblearn.pipeline import Pipeline\n",
    "import random\n",
    "\n",
    "\n"
   ]
  },
  {
   "cell_type": "code",
   "execution_count": 138,
   "id": "0ed6f780",
   "metadata": {},
   "outputs": [
    {
     "name": "stderr",
     "output_type": "stream",
     "text": [
      "C:\\Users\\sinan\\AppData\\Local\\Temp/ipykernel_3660/2470930642.py:31: FutureWarning:\n",
      "\n",
      "The default value of regex will change from True to False in a future version.\n",
      "\n"
     ]
    }
   ],
   "source": [
    "#read the csv file\n",
    "df = pd.read_csv('auto_insurance_csv.csv')\n",
    "\n",
    "# drop the unneccassary column\n",
    "df = df.drop(['_c39','Unnamed: 0'], axis = 1)\n",
    "\n",
    "# fill null columns with \"9999\"\n",
    "df['umbrella_limit'] = df.umbrella_limit.fillna(\"9999\")\n",
    "\n",
    "# fill null columns with \"MISSING\"\n",
    "df['police_report_available'] = df.police_report_available.fillna(\"MISSING\")\n",
    "df['policy_csl'] = df.policy_csl.fillna(\"MISSING\")\n",
    "\n",
    "# convert columns to datetime\n",
    "df['policy_bind_date'] = pd.to_datetime(df['policy_bind_date'])\n",
    "df['incident_date'] = pd.to_datetime(df['incident_date'])\n",
    "df['claim_day_of_policy'] = (df.incident_date -  df.policy_bind_date).dt.days\n",
    "df['location_check'] = np.nan\n",
    "df['location_check'] = np.where(df['policy_state'] == df['incident_state'], True, False)\n",
    "\n",
    "# 'fraud_reported' is going to be our target column. We will convert it to 1 and 0.\n",
    "df['fraud_reported'] = df['fraud_reported'].str.replace('Y', '1')\n",
    "df['fraud_reported'] = df['fraud_reported'].str.replace('N', '0')\n",
    "df['fraud_reported'] = df['fraud_reported'].astype(int)\n",
    "df['umbrella_limit'] = df.umbrella_limit.astype(str)\n",
    "\n",
    "# group the 'umbrella_limit' columns as 0 - 9999 - other\n",
    "umbrealla = df['umbrella_limit'].unique()\n",
    "for umb in umbrealla:\n",
    "  if (umb != '0.0') & (umb != '9999'):\n",
    "    df['umbrella_limit'] = df['umbrella_limit'].str.replace(umb, 'other')\n",
    "\n",
    "# group the 'hobiies' columns as chess - cross-fit - other    \n",
    "hobbies = df['insured_hobbies'].unique()\n",
    "for hobby in hobbies:\n",
    "  if (hobby != 'chess') & (hobby != 'cross-fit'):\n",
    "    df['insured_hobbies'] = df['insured_hobbies'].str.replace(hobby, 'other')\n",
    "\n",
    "# fill the null values with 99999 of age column\n",
    "# group age column\n",
    "df['age'] = df.age.fillna(9999)\n",
    "bin_labels = ['15-20', '21-25', '26-30', '31-35', '36-40', '41-45', '46-50', '51-55', '56-60', '61-65','9999']\n",
    "bins = [15, 20, 25, 30, 35, 40, 45, 50, 55, 60, 65, 9999]\n",
    "\n",
    "# create a new column as 'age_group' instead of 'age'\n",
    "df['age_group'] = pd.cut(df['age'], bins = bins, labels = bin_labels, include_lowest = True)\n",
    "bins = [0, 50, 100, 150, 200, 250, 300, 350, 400, 450, 500]\n",
    "bin_labels = ['0-50','51-100','101-150','151-200','201-250','251-300','301-350','351-400','401-450','451-500']\n",
    "\n",
    "# create a new column as 'months_as_customer_groups' instead of 'months_as_customer'\n",
    "df['months_as_customer_groups'] = pd.cut(df['months_as_customer'], bins = 10, labels = bin_labels, include_lowest= True)\n",
    "bins = list(np.linspace(0,2500, 6, dtype = int))\n",
    "bin_labels = ['very low', 'low', 'medium', 'high', 'very high']\n",
    "\n",
    "# create a new column as 'policy_annual_premium_groups' instead of 'policy_annual_premium'\n",
    "df['policy_annual_premium_groups'] = pd.cut(df['policy_annual_premium'], bins = bins, labels=bin_labels)\n",
    "bins = list(np.linspace(0,2000, 5, dtype = int))\n",
    "bin_labels = ['0-500', '501-1000', '1001-1500', '1501-2000']\n",
    "\n",
    "df['policy_deductable_group'] = pd.cut(df['policy_deductable'], bins = bins, labels = bin_labels)\n",
    "\n",
    "# drop the grouped columns\n",
    "df = df.drop(['age', 'months_as_customer', 'policy_deductable', 'policy_annual_premium'], axis = 1)\n",
    "required_columns = ['incident_date','policy_state', 'policy_csl', 'umbrella_limit',\n",
    "       'insured_zip', 'insured_sex', 'insured_education_level',\n",
    "       'insured_occupation', 'insured_hobbies', 'insured_relationship',\n",
    "       'capital-gains', 'capital-loss', 'incident_type', 'collision_type',\n",
    "       'incident_severity', 'authorities_contacted', 'incident_state',\n",
    "       'incident_city', 'incident_location', 'incident_hour_of_the_day',\n",
    "       'number_of_vehicles_involved', 'property_damage', 'bodily_injuries',\n",
    "       'witnesses', 'police_report_available', 'total_claim_amount','auto_make',\n",
    "       'auto_model', 'auto_year', 'fraud_reported', 'claim_day_of_policy',\n",
    "       'location_check', 'age_group', 'months_as_customer_groups',\n",
    "       'policy_annual_premium_groups', 'policy_deductable_group']\n",
    "\n",
    "# create a new clean data frame just with required_columns as names 'df1'\n",
    "df1 = df[required_columns]"
   ]
  },
  {
   "cell_type": "markdown",
   "metadata": {},
   "source": [
    "Veri setinde temizleme gruplama işlemlerinin ardından yeni bir data frame oluşturuldu ve bu data frame üzerinden train-validation-test split işlemleri yapılacak."
   ]
  },
  {
   "cell_type": "code",
   "execution_count": 139,
   "metadata": {},
   "outputs": [],
   "source": [
    "df1 = df1.drop(['incident_date'], axis=1)"
   ]
  },
  {
   "cell_type": "code",
   "execution_count": 140,
   "metadata": {},
   "outputs": [
    {
     "data": {
      "text/html": [
       "<div>\n",
       "<style scoped>\n",
       "    .dataframe tbody tr th:only-of-type {\n",
       "        vertical-align: middle;\n",
       "    }\n",
       "\n",
       "    .dataframe tbody tr th {\n",
       "        vertical-align: top;\n",
       "    }\n",
       "\n",
       "    .dataframe thead th {\n",
       "        text-align: right;\n",
       "    }\n",
       "</style>\n",
       "<table border=\"1\" class=\"dataframe\">\n",
       "  <thead>\n",
       "    <tr style=\"text-align: right;\">\n",
       "      <th></th>\n",
       "      <th>policy_state</th>\n",
       "      <th>policy_csl</th>\n",
       "      <th>umbrella_limit</th>\n",
       "      <th>insured_zip</th>\n",
       "      <th>insured_sex</th>\n",
       "      <th>insured_education_level</th>\n",
       "      <th>insured_occupation</th>\n",
       "      <th>insured_hobbies</th>\n",
       "      <th>insured_relationship</th>\n",
       "      <th>capital-gains</th>\n",
       "      <th>...</th>\n",
       "      <th>auto_make</th>\n",
       "      <th>auto_model</th>\n",
       "      <th>auto_year</th>\n",
       "      <th>fraud_reported</th>\n",
       "      <th>claim_day_of_policy</th>\n",
       "      <th>location_check</th>\n",
       "      <th>age_group</th>\n",
       "      <th>months_as_customer_groups</th>\n",
       "      <th>policy_annual_premium_groups</th>\n",
       "      <th>policy_deductable_group</th>\n",
       "    </tr>\n",
       "  </thead>\n",
       "  <tbody>\n",
       "    <tr>\n",
       "      <th>0</th>\n",
       "      <td>OH</td>\n",
       "      <td>250/500</td>\n",
       "      <td>0.0</td>\n",
       "      <td>466132</td>\n",
       "      <td>MALE</td>\n",
       "      <td>MD</td>\n",
       "      <td>craft-repair</td>\n",
       "      <td>other</td>\n",
       "      <td>husband</td>\n",
       "      <td>53300</td>\n",
       "      <td>...</td>\n",
       "      <td>Saab</td>\n",
       "      <td>92x</td>\n",
       "      <td>2004</td>\n",
       "      <td>1</td>\n",
       "      <td>100</td>\n",
       "      <td>False</td>\n",
       "      <td>46-50</td>\n",
       "      <td>301-350</td>\n",
       "      <td>medium</td>\n",
       "      <td>501-1000</td>\n",
       "    </tr>\n",
       "    <tr>\n",
       "      <th>1</th>\n",
       "      <td>IN</td>\n",
       "      <td>250/500</td>\n",
       "      <td>other</td>\n",
       "      <td>468176</td>\n",
       "      <td>MALE</td>\n",
       "      <td>MD</td>\n",
       "      <td>machine-op-inspct</td>\n",
       "      <td>other</td>\n",
       "      <td>other-relative</td>\n",
       "      <td>0</td>\n",
       "      <td>...</td>\n",
       "      <td>Mercedes</td>\n",
       "      <td>E400</td>\n",
       "      <td>2007</td>\n",
       "      <td>1</td>\n",
       "      <td>3130</td>\n",
       "      <td>False</td>\n",
       "      <td>41-45</td>\n",
       "      <td>201-250</td>\n",
       "      <td>medium</td>\n",
       "      <td>1501-2000</td>\n",
       "    </tr>\n",
       "    <tr>\n",
       "      <th>2</th>\n",
       "      <td>OH</td>\n",
       "      <td>MISSING</td>\n",
       "      <td>other</td>\n",
       "      <td>430632</td>\n",
       "      <td>FEMALE</td>\n",
       "      <td>PhD</td>\n",
       "      <td>sales</td>\n",
       "      <td>other</td>\n",
       "      <td>own-child</td>\n",
       "      <td>35100</td>\n",
       "      <td>...</td>\n",
       "      <td>Dodge</td>\n",
       "      <td>RAM</td>\n",
       "      <td>2007</td>\n",
       "      <td>0</td>\n",
       "      <td>5282</td>\n",
       "      <td>False</td>\n",
       "      <td>26-30</td>\n",
       "      <td>101-150</td>\n",
       "      <td>medium</td>\n",
       "      <td>1501-2000</td>\n",
       "    </tr>\n",
       "    <tr>\n",
       "      <th>3</th>\n",
       "      <td>IL</td>\n",
       "      <td>MISSING</td>\n",
       "      <td>other</td>\n",
       "      <td>608117</td>\n",
       "      <td>FEMALE</td>\n",
       "      <td>PhD</td>\n",
       "      <td>armed-forces</td>\n",
       "      <td>other</td>\n",
       "      <td>unmarried</td>\n",
       "      <td>48900</td>\n",
       "      <td>...</td>\n",
       "      <td>Chevrolet</td>\n",
       "      <td>Tahoe</td>\n",
       "      <td>2014</td>\n",
       "      <td>1</td>\n",
       "      <td>8996</td>\n",
       "      <td>False</td>\n",
       "      <td>41-45</td>\n",
       "      <td>251-300</td>\n",
       "      <td>medium</td>\n",
       "      <td>1501-2000</td>\n",
       "    </tr>\n",
       "    <tr>\n",
       "      <th>4</th>\n",
       "      <td>IL</td>\n",
       "      <td>MISSING</td>\n",
       "      <td>other</td>\n",
       "      <td>610706</td>\n",
       "      <td>MALE</td>\n",
       "      <td>Associate</td>\n",
       "      <td>sales</td>\n",
       "      <td>other</td>\n",
       "      <td>unmarried</td>\n",
       "      <td>66000</td>\n",
       "      <td>...</td>\n",
       "      <td>Accura</td>\n",
       "      <td>RSX</td>\n",
       "      <td>2009</td>\n",
       "      <td>0</td>\n",
       "      <td>256</td>\n",
       "      <td>False</td>\n",
       "      <td>41-45</td>\n",
       "      <td>201-250</td>\n",
       "      <td>high</td>\n",
       "      <td>501-1000</td>\n",
       "    </tr>\n",
       "  </tbody>\n",
       "</table>\n",
       "<p>5 rows × 35 columns</p>\n",
       "</div>"
      ],
      "text/plain": [
       "  policy_state policy_csl umbrella_limit  insured_zip insured_sex  \\\n",
       "0           OH    250/500            0.0       466132        MALE   \n",
       "1           IN    250/500          other       468176        MALE   \n",
       "2           OH    MISSING          other       430632      FEMALE   \n",
       "3           IL    MISSING          other       608117      FEMALE   \n",
       "4           IL    MISSING          other       610706        MALE   \n",
       "\n",
       "  insured_education_level insured_occupation insured_hobbies  \\\n",
       "0                      MD       craft-repair           other   \n",
       "1                      MD  machine-op-inspct           other   \n",
       "2                     PhD              sales           other   \n",
       "3                     PhD       armed-forces           other   \n",
       "4               Associate              sales           other   \n",
       "\n",
       "  insured_relationship  capital-gains  ...  auto_make auto_model auto_year  \\\n",
       "0              husband          53300  ...       Saab        92x      2004   \n",
       "1       other-relative              0  ...   Mercedes       E400      2007   \n",
       "2            own-child          35100  ...      Dodge        RAM      2007   \n",
       "3            unmarried          48900  ...  Chevrolet      Tahoe      2014   \n",
       "4            unmarried          66000  ...     Accura        RSX      2009   \n",
       "\n",
       "  fraud_reported claim_day_of_policy location_check age_group  \\\n",
       "0              1                 100          False     46-50   \n",
       "1              1                3130          False     41-45   \n",
       "2              0                5282          False     26-30   \n",
       "3              1                8996          False     41-45   \n",
       "4              0                 256          False     41-45   \n",
       "\n",
       "  months_as_customer_groups  policy_annual_premium_groups  \\\n",
       "0                   301-350                        medium   \n",
       "1                   201-250                        medium   \n",
       "2                   101-150                        medium   \n",
       "3                   251-300                        medium   \n",
       "4                   201-250                          high   \n",
       "\n",
       "   policy_deductable_group  \n",
       "0                 501-1000  \n",
       "1                1501-2000  \n",
       "2                1501-2000  \n",
       "3                1501-2000  \n",
       "4                 501-1000  \n",
       "\n",
       "[5 rows x 35 columns]"
      ]
     },
     "execution_count": 140,
     "metadata": {},
     "output_type": "execute_result"
    }
   ],
   "source": [
    "df1.head()"
   ]
  },
  {
   "cell_type": "code",
   "execution_count": 141,
   "metadata": {},
   "outputs": [
    {
     "data": {
      "text/plain": [
       "Index(['policy_state', 'policy_csl', 'umbrella_limit', 'insured_zip',\n",
       "       'insured_sex', 'insured_education_level', 'insured_occupation',\n",
       "       'insured_hobbies', 'insured_relationship', 'capital-gains',\n",
       "       'capital-loss', 'incident_type', 'collision_type', 'incident_severity',\n",
       "       'authorities_contacted', 'incident_state', 'incident_city',\n",
       "       'incident_location', 'incident_hour_of_the_day',\n",
       "       'number_of_vehicles_involved', 'property_damage', 'bodily_injuries',\n",
       "       'witnesses', 'police_report_available', 'total_claim_amount',\n",
       "       'auto_make', 'auto_model', 'auto_year', 'fraud_reported',\n",
       "       'claim_day_of_policy', 'location_check', 'age_group',\n",
       "       'months_as_customer_groups', 'policy_annual_premium_groups',\n",
       "       'policy_deductable_group'],\n",
       "      dtype='object')"
      ]
     },
     "execution_count": 141,
     "metadata": {},
     "output_type": "execute_result"
    }
   ],
   "source": [
    "df1.columns"
   ]
  },
  {
   "cell_type": "code",
   "execution_count": 144,
   "metadata": {},
   "outputs": [],
   "source": []
  },
  {
   "cell_type": "code",
   "execution_count": 149,
   "metadata": {},
   "outputs": [
    {
     "data": {
      "text/html": [
       "<div>\n",
       "<style scoped>\n",
       "    .dataframe tbody tr th:only-of-type {\n",
       "        vertical-align: middle;\n",
       "    }\n",
       "\n",
       "    .dataframe tbody tr th {\n",
       "        vertical-align: top;\n",
       "    }\n",
       "\n",
       "    .dataframe thead th {\n",
       "        text-align: right;\n",
       "    }\n",
       "</style>\n",
       "<table border=\"1\" class=\"dataframe\">\n",
       "  <thead>\n",
       "    <tr style=\"text-align: right;\">\n",
       "      <th></th>\n",
       "      <th>insured_zip</th>\n",
       "      <th>capital-gains</th>\n",
       "      <th>capital-loss</th>\n",
       "      <th>incident_hour_of_the_day</th>\n",
       "      <th>number_of_vehicles_involved</th>\n",
       "      <th>bodily_injuries</th>\n",
       "      <th>witnesses</th>\n",
       "      <th>total_claim_amount</th>\n",
       "      <th>auto_year</th>\n",
       "      <th>fraud_reported</th>\n",
       "      <th>...</th>\n",
       "      <th>months_as_customer_groups_451-500</th>\n",
       "      <th>policy_annual_premium_groups_very low</th>\n",
       "      <th>policy_annual_premium_groups_low</th>\n",
       "      <th>policy_annual_premium_groups_medium</th>\n",
       "      <th>policy_annual_premium_groups_high</th>\n",
       "      <th>policy_annual_premium_groups_very high</th>\n",
       "      <th>policy_deductable_group_0-500</th>\n",
       "      <th>policy_deductable_group_501-1000</th>\n",
       "      <th>policy_deductable_group_1001-1500</th>\n",
       "      <th>policy_deductable_group_1501-2000</th>\n",
       "    </tr>\n",
       "  </thead>\n",
       "  <tbody>\n",
       "    <tr>\n",
       "      <th>0</th>\n",
       "      <td>466132</td>\n",
       "      <td>53300</td>\n",
       "      <td>0</td>\n",
       "      <td>5</td>\n",
       "      <td>1</td>\n",
       "      <td>1</td>\n",
       "      <td>2</td>\n",
       "      <td>71610</td>\n",
       "      <td>2004</td>\n",
       "      <td>1</td>\n",
       "      <td>...</td>\n",
       "      <td>0</td>\n",
       "      <td>0</td>\n",
       "      <td>0</td>\n",
       "      <td>1</td>\n",
       "      <td>0</td>\n",
       "      <td>0</td>\n",
       "      <td>0</td>\n",
       "      <td>1</td>\n",
       "      <td>0</td>\n",
       "      <td>0</td>\n",
       "    </tr>\n",
       "    <tr>\n",
       "      <th>1</th>\n",
       "      <td>468176</td>\n",
       "      <td>0</td>\n",
       "      <td>0</td>\n",
       "      <td>8</td>\n",
       "      <td>1</td>\n",
       "      <td>0</td>\n",
       "      <td>0</td>\n",
       "      <td>5070</td>\n",
       "      <td>2007</td>\n",
       "      <td>1</td>\n",
       "      <td>...</td>\n",
       "      <td>0</td>\n",
       "      <td>0</td>\n",
       "      <td>0</td>\n",
       "      <td>1</td>\n",
       "      <td>0</td>\n",
       "      <td>0</td>\n",
       "      <td>0</td>\n",
       "      <td>0</td>\n",
       "      <td>0</td>\n",
       "      <td>1</td>\n",
       "    </tr>\n",
       "    <tr>\n",
       "      <th>2</th>\n",
       "      <td>430632</td>\n",
       "      <td>35100</td>\n",
       "      <td>0</td>\n",
       "      <td>7</td>\n",
       "      <td>3</td>\n",
       "      <td>2</td>\n",
       "      <td>3</td>\n",
       "      <td>34650</td>\n",
       "      <td>2007</td>\n",
       "      <td>0</td>\n",
       "      <td>...</td>\n",
       "      <td>0</td>\n",
       "      <td>0</td>\n",
       "      <td>0</td>\n",
       "      <td>1</td>\n",
       "      <td>0</td>\n",
       "      <td>0</td>\n",
       "      <td>0</td>\n",
       "      <td>0</td>\n",
       "      <td>0</td>\n",
       "      <td>1</td>\n",
       "    </tr>\n",
       "    <tr>\n",
       "      <th>3</th>\n",
       "      <td>608117</td>\n",
       "      <td>48900</td>\n",
       "      <td>-62400</td>\n",
       "      <td>5</td>\n",
       "      <td>1</td>\n",
       "      <td>1</td>\n",
       "      <td>2</td>\n",
       "      <td>63400</td>\n",
       "      <td>2014</td>\n",
       "      <td>1</td>\n",
       "      <td>...</td>\n",
       "      <td>0</td>\n",
       "      <td>0</td>\n",
       "      <td>0</td>\n",
       "      <td>1</td>\n",
       "      <td>0</td>\n",
       "      <td>0</td>\n",
       "      <td>0</td>\n",
       "      <td>0</td>\n",
       "      <td>0</td>\n",
       "      <td>1</td>\n",
       "    </tr>\n",
       "    <tr>\n",
       "      <th>4</th>\n",
       "      <td>610706</td>\n",
       "      <td>66000</td>\n",
       "      <td>-46000</td>\n",
       "      <td>20</td>\n",
       "      <td>1</td>\n",
       "      <td>0</td>\n",
       "      <td>1</td>\n",
       "      <td>6500</td>\n",
       "      <td>2009</td>\n",
       "      <td>0</td>\n",
       "      <td>...</td>\n",
       "      <td>0</td>\n",
       "      <td>0</td>\n",
       "      <td>0</td>\n",
       "      <td>0</td>\n",
       "      <td>1</td>\n",
       "      <td>0</td>\n",
       "      <td>0</td>\n",
       "      <td>1</td>\n",
       "      <td>0</td>\n",
       "      <td>0</td>\n",
       "    </tr>\n",
       "  </tbody>\n",
       "</table>\n",
       "<p>5 rows × 1176 columns</p>\n",
       "</div>"
      ],
      "text/plain": [
       "   insured_zip  capital-gains  capital-loss  incident_hour_of_the_day  \\\n",
       "0       466132          53300             0                         5   \n",
       "1       468176              0             0                         8   \n",
       "2       430632          35100             0                         7   \n",
       "3       608117          48900        -62400                         5   \n",
       "4       610706          66000        -46000                        20   \n",
       "\n",
       "   number_of_vehicles_involved  bodily_injuries  witnesses  \\\n",
       "0                            1                1          2   \n",
       "1                            1                0          0   \n",
       "2                            3                2          3   \n",
       "3                            1                1          2   \n",
       "4                            1                0          1   \n",
       "\n",
       "   total_claim_amount  auto_year  fraud_reported  ...  \\\n",
       "0               71610       2004               1  ...   \n",
       "1                5070       2007               1  ...   \n",
       "2               34650       2007               0  ...   \n",
       "3               63400       2014               1  ...   \n",
       "4                6500       2009               0  ...   \n",
       "\n",
       "   months_as_customer_groups_451-500  policy_annual_premium_groups_very low  \\\n",
       "0                                  0                                      0   \n",
       "1                                  0                                      0   \n",
       "2                                  0                                      0   \n",
       "3                                  0                                      0   \n",
       "4                                  0                                      0   \n",
       "\n",
       "   policy_annual_premium_groups_low  policy_annual_premium_groups_medium  \\\n",
       "0                                 0                                    1   \n",
       "1                                 0                                    1   \n",
       "2                                 0                                    1   \n",
       "3                                 0                                    1   \n",
       "4                                 0                                    0   \n",
       "\n",
       "   policy_annual_premium_groups_high  policy_annual_premium_groups_very high  \\\n",
       "0                                  0                                       0   \n",
       "1                                  0                                       0   \n",
       "2                                  0                                       0   \n",
       "3                                  0                                       0   \n",
       "4                                  1                                       0   \n",
       "\n",
       "   policy_deductable_group_0-500  policy_deductable_group_501-1000  \\\n",
       "0                              0                                 1   \n",
       "1                              0                                 0   \n",
       "2                              0                                 0   \n",
       "3                              0                                 0   \n",
       "4                              0                                 1   \n",
       "\n",
       "   policy_deductable_group_1001-1500  policy_deductable_group_1501-2000  \n",
       "0                                  0                                  0  \n",
       "1                                  0                                  1  \n",
       "2                                  0                                  1  \n",
       "3                                  0                                  1  \n",
       "4                                  0                                  0  \n",
       "\n",
       "[5 rows x 1176 columns]"
      ]
     },
     "execution_count": 149,
     "metadata": {},
     "output_type": "execute_result"
    }
   ],
   "source": [
    "df3 = pd.get_dummies(df1, columns = columns_to_encode)\n",
    "\n",
    "df3.head()"
   ]
  },
  {
   "cell_type": "code",
   "execution_count": 152,
   "metadata": {},
   "outputs": [
    {
     "data": {
      "text/plain": [
       "[]"
      ]
     },
     "execution_count": 152,
     "metadata": {},
     "output_type": "execute_result"
    }
   ],
   "source": [
    "cols = df3.columns\n",
    "num_cols = df3._get_numeric_data().columns\n",
    "list(set(cols) - set(num_cols))"
   ]
  },
  {
   "cell_type": "code",
   "execution_count": 157,
   "metadata": {},
   "outputs": [],
   "source": [
    "# split the data into dependent and independent sets\n",
    "features = []\n",
    "for col in df3.columns:\n",
    "  if col != 'fraud_reported':\n",
    "    features.append(col)\n",
    "\n",
    "target = 'fraud_reported'\n",
    "\n",
    "X = df3[features]\n",
    "y = df3[target]"
   ]
  },
  {
   "cell_type": "code",
   "execution_count": 158,
   "metadata": {},
   "outputs": [],
   "source": [
    "from sklearn.preprocessing import StandardScaler\n",
    "\n",
    "sc = StandardScaler()\n",
    "X = sc.fit_transform(X)"
   ]
  },
  {
   "cell_type": "code",
   "execution_count": 159,
   "metadata": {},
   "outputs": [
    {
     "data": {
      "text/plain": [
       "array([[-0.48952934,  1.01133064,  0.95385051, ...,  1.35978044,\n",
       "         0.        , -0.66558354],\n",
       "       [-0.46100805, -0.90192678,  0.95385051, ..., -0.73541284,\n",
       "         0.        ,  1.50244101],\n",
       "       [-0.98488451,  0.35802323,  0.95385051, ..., -0.73541284,\n",
       "         0.        ,  1.50244101],\n",
       "       ...,\n",
       "       [-0.81513815,  0.35802323,  0.95385051, ..., -0.73541284,\n",
       "         0.        , -0.66558354],\n",
       "       [-0.83024997, -0.90192678,  0.95385051, ..., -0.73541284,\n",
       "         0.        ,  1.50244101],\n",
       "       [ 1.54949205, -0.90192678,  0.95385051, ...,  1.35978044,\n",
       "         0.        , -0.66558354]])"
      ]
     },
     "execution_count": 159,
     "metadata": {},
     "output_type": "execute_result"
    }
   ],
   "source": [
    "X"
   ]
  },
  {
   "cell_type": "markdown",
   "metadata": {},
   "source": [
    "---------------"
   ]
  },
  {
   "cell_type": "markdown",
   "metadata": {},
   "source": [
    "## Modelling Data with SMOTE Technique"
   ]
  },
  {
   "cell_type": "code",
   "execution_count": 160,
   "metadata": {},
   "outputs": [],
   "source": [
    "# Split data set into random train and test subsets\n",
    "\n",
    "oversample = SMOTE(random_state=9)\n",
    "X_train, X_test, y_train, y_test = train_test_split(X, y, test_size = 0.2,  random_state = 42)\n",
    "X_over, y_over = oversample.fit_resample(X_train, y_train)\n",
    "X_train, X_test, y_train, y_test = train_test_split(X_over, y_over, test_size = 0.2, random_state = 1)\n"
   ]
  },
  {
   "cell_type": "code",
   "execution_count": 167,
   "metadata": {},
   "outputs": [
    {
     "name": "stderr",
     "output_type": "stream",
     "text": [
      "C:\\Users\\sinan\\AppData\\Local\\Programs\\Python\\Python39\\lib\\site-packages\\seaborn\\_decorators.py:36: FutureWarning:\n",
      "\n",
      "Pass the following variable as a keyword arg: x. From version 0.12, the only valid positional argument will be `data`, and passing other arguments without an explicit keyword will result in an error or misinterpretation.\n",
      "\n"
     ]
    },
    {
     "data": {
      "text/plain": [
       "<AxesSubplot:xlabel='fraud_reported', ylabel='count'>"
      ]
     },
     "execution_count": 167,
     "metadata": {},
     "output_type": "execute_result"
    },
    {
     "data": {
      "image/png": "[encoded data removed]",
      "text/plain": [
       "<Figure size 720x720 with 1 Axes>"
      ]
     },
     "metadata": {
      "needs_background": "light"
     },
     "output_type": "display_data"
    }
   ],
   "source": [
    "chck = pd.DataFrame()\n",
    "chck['fraud_reported'] = y_train\n",
    "\n",
    "sns.countplot(chck['fraud_reported'])"
   ]
  },
  {
   "cell_type": "markdown",
   "metadata": {},
   "source": [
    "## Logistic Regression"
   ]
  },
  {
   "cell_type": "code",
   "execution_count": 194,
   "metadata": {},
   "outputs": [
    {
     "name": "stdout",
     "output_type": "stream",
     "text": [
      "0.9590163934426229\n"
     ]
    }
   ],
   "source": [
    "lr = LogisticRegression()\n",
    "\n",
    "lr.fit(X_train, y_train)\n",
    "preds = lr.predict(X_test)\n",
    "\n",
    "score = lr.score(X_test, y_test)\n",
    "print(score)"
   ]
  },
  {
   "cell_type": "code",
   "execution_count": 195,
   "metadata": {},
   "outputs": [
    {
     "name": "stdout",
     "output_type": "stream",
     "text": [
      "0.9590163934426229\n",
      "\n",
      "              precision    recall  f1-score   support\n",
      "\n",
      "           0       0.96      0.96      0.96       116\n",
      "           1       0.96      0.96      0.96       128\n",
      "\n",
      "    accuracy                           0.96       244\n",
      "   macro avg       0.96      0.96      0.96       244\n",
      "weighted avg       0.96      0.96      0.96       244\n",
      "\n"
     ]
    },
    {
     "data": {
      "text/plain": [
       "<AxesSubplot:>"
      ]
     },
     "execution_count": 195,
     "metadata": {},
     "output_type": "execute_result"
    },
    {
     "data": {
      "image/png": "[encoded data removed]",
      "text/plain": [
       "<Figure size 720x576 with 2 Axes>"
      ]
     },
     "metadata": {
      "needs_background": "light"
     },
     "output_type": "display_data"
    }
   ],
   "source": [
    "lr.fit(X_train, y_train)\n",
    "preds = lr.predict(X_test)\n",
    "score = lr.score(X_test, y_test)\n",
    "print(score)\n",
    "print()\n",
    "print(classification_report(y_test, preds))\n",
    "cm = confusion_matrix(y_test, preds)\n",
    "sns\n",
    "sns.heatmap(cm, annot=True)"
   ]
  },
  {
   "cell_type": "markdown",
   "metadata": {},
   "source": [
    "--------------"
   ]
  },
  {
   "cell_type": "markdown",
   "metadata": {},
   "source": [
    "## Modelling the Data With Random Forest Classifier"
   ]
  },
  {
   "cell_type": "markdown",
   "metadata": {},
   "source": [
    "- Accuracy: Bir modelin başarısını ölçmek için çok kullanılan ancak tek başına yeterli değildir. Accuracy değeri modelde doğru tahmin ettiğimiz alanların toplam veri kümesine oranı ile hesaplanmaktır. Özellikle eşit dağılmayan veri kümelerinde model doğruluğu tek başına yeterli değildir\n",
    "- Precision (Kesinlik): Positive olarak tahminlediğimiz değerlerin gerçekten kaç adedinin Positive olduğunu göstermektedir.\n",
    "- Recall (Duyarlılık): Positive olarak tahmin etmemiz gereken işlemlerin ne kadarını Positive olarak tahmin ettiğimizi gösteren bir metriktir.\n",
    "- F1 Score: Precision ve Recall değerlerinin harmonik ortalamasını göstermektedir. Basit bir ortalama yerine harmonik ortalama olmasının sebebi ise uç durumları da gözardı etmememiz gerektiğidir. Eğer basit bir ortalama hesaplaması olsaydı Precision değeri 1 ve Recall değeri 0 olan bir modelin F1 Score’u 0.5 olarak gelecektir ve bu bizi yanıltacaktır. \n",
    "- Accuracy yerine F1 Score değerinin kullanılmasının en temel sebebi eşit dağılmayan veri kümelerinde hatalı bir model seçimi yapmamaktır. "
   ]
  },
  {
   "cell_type": "code",
   "execution_count": 178,
   "metadata": {},
   "outputs": [
    {
     "name": "stdout",
     "output_type": "stream",
     "text": [
      "Training Accuracy:  1.0\n",
      "Testing Accuarcy:  0.8852459016393442\n",
      "              precision    recall  f1-score   support\n",
      "\n",
      "           0       0.83      0.96      0.89       116\n",
      "           1       0.95      0.82      0.88       128\n",
      "\n",
      "    accuracy                           0.89       244\n",
      "   macro avg       0.89      0.89      0.89       244\n",
      "weighted avg       0.89      0.89      0.89       244\n",
      "\n"
     ]
    },
    {
     "data": {
      "image/png": "[encoded data removed]",
      "text/plain": [
       "<Figure size 720x576 with 2 Axes>"
      ]
     },
     "metadata": {
      "needs_background": "light"
     },
     "output_type": "display_data"
    }
   ],
   "source": [
    "from imblearn.ensemble import BalancedRandomForestClassifier \n",
    "from sklearn.ensemble import RandomForestClassifier\n",
    "import matplotlib.pyplot as plt\n",
    "\n",
    "model = RandomForestClassifier(n_estimators = 100, random_state = 72)\n",
    "\n",
    "model.fit(X_train, y_train)\n",
    "y_pred_rf = model.predict(X_test)\n",
    "\n",
    "print(\"Training Accuracy: \", model.score(X_train, y_train))\n",
    "print('Testing Accuarcy: ', model.score(X_test, y_test))\n",
    "\n",
    "# making a classification report\n",
    "cr = classification_report(y_test,  y_pred_rf)\n",
    "print(cr)\n",
    "\n",
    "# making a confusion matrix\n",
    "plt.rcParams['figure.figsize'] = (10, 8)\n",
    "cm = confusion_matrix(y_test, y_pred_rf)\n",
    "sns.heatmap(cm, annot = True, cmap = 'Greens')\n",
    "plt.show()"
   ]
  },
  {
   "cell_type": "markdown",
   "metadata": {},
   "source": [
    "## Over Sampling with SMOTE"
   ]
  },
  {
   "cell_type": "code",
   "execution_count": 186,
   "metadata": {},
   "outputs": [
    {
     "name": "stdout",
     "output_type": "stream",
     "text": [
      "(1506, 1175)\n",
      "(1506,)\n"
     ]
    }
   ],
   "source": [
    "X_resample, y_resample  = oversample.fit_resample(X, y.values.ravel())\n",
    "\n",
    "print(X_resample.shape)\n",
    "print(y_resample.shape)"
   ]
  },
  {
   "cell_type": "code",
   "execution_count": 187,
   "metadata": {},
   "outputs": [],
   "source": [
    "X_train2, X_test2, y_train2, y_test2 = train_test_split(X_resample, y_resample, test_size = 0.2, random_state = 0)\n"
   ]
  },
  {
   "cell_type": "code",
   "execution_count": 189,
   "metadata": {},
   "outputs": [
    {
     "name": "stderr",
     "output_type": "stream",
     "text": [
      "C:\\Users\\sinan\\AppData\\Local\\Programs\\Python\\Python39\\lib\\site-packages\\sklearn\\base.py:441: UserWarning:\n",
      "\n",
      "X does not have valid feature names, but StandardScaler was fitted with feature names\n",
      "\n",
      "C:\\Users\\sinan\\AppData\\Local\\Programs\\Python\\Python39\\lib\\site-packages\\sklearn\\base.py:441: UserWarning:\n",
      "\n",
      "X does not have valid feature names, but StandardScaler was fitted with feature names\n",
      "\n"
     ]
    }
   ],
   "source": [
    "# standardization\n",
    "\n",
    "X_train2 = sc.fit_transform(X_train2)\n",
    "X_test2 = sc.transform(X_test2)"
   ]
  },
  {
   "cell_type": "code",
   "execution_count": 192,
   "metadata": {},
   "outputs": [
    {
     "name": "stdout",
     "output_type": "stream",
     "text": [
      "Training Accuracy:  1.0\n",
      "Testing Accuarcy:  0.8807947019867549\n",
      "              precision    recall  f1-score   support\n",
      "\n",
      "           0       0.84      0.95      0.89       154\n",
      "           1       0.94      0.81      0.87       148\n",
      "\n",
      "    accuracy                           0.88       302\n",
      "   macro avg       0.89      0.88      0.88       302\n",
      "weighted avg       0.89      0.88      0.88       302\n",
      "\n"
     ]
    },
    {
     "data": {
      "image/png": "[encoded data removed]",
      "text/plain": [
       "<Figure size 720x576 with 2 Axes>"
      ]
     },
     "metadata": {
      "needs_background": "light"
     },
     "output_type": "display_data"
    }
   ],
   "source": [
    "# Random Forest Classifier\n",
    "\n",
    "model_o = RandomForestClassifier()\n",
    "model_o.fit(X_train2, y_train2)\n",
    "\n",
    "y_pred = model_o.predict(X_test2)\n",
    "\n",
    "print(\"Training Accuracy: \", model_o.score(X_train2, y_train2))\n",
    "print('Testing Accuarcy: ', model_o.score(X_test2, y_test2))\n",
    "\n",
    "# classification report\n",
    "cr = classification_report(y_test2, y_pred)\n",
    "print(cr)\n",
    "\n",
    "# confusion matrix\n",
    "cm = confusion_matrix(y_test2, y_pred)\n",
    "plt.rcParams['figure.figsize'] = (10, 8)\n",
    "sns.heatmap(cm, annot = True, cmap = 'Greens')\n",
    "plt.show()"
   ]
  },
  {
   "cell_type": "markdown",
   "metadata": {},
   "source": [
    "## Voting Classifier , Decision Tree, KNeighbors"
   ]
  },
  {
   "cell_type": "code",
   "execution_count": 196,
   "metadata": {},
   "outputs": [
    {
     "name": "stdout",
     "output_type": "stream",
     "text": [
      "Logistic Regression 0.9649122807017544\n",
      "KNeighbors 0.9385964912280702\n",
      "Decision Tree 0.9385964912280702\n"
     ]
    },
    {
     "name": "stderr",
     "output_type": "stream",
     "text": [
      "C:\\Users\\sinan\\AppData\\Local\\Programs\\Python\\Python39\\lib\\site-packages\\sklearn\\linear_model\\_logistic.py:814: ConvergenceWarning:\n",
      "\n",
      "lbfgs failed to converge (status=1):\n",
      "STOP: TOTAL NO. of ITERATIONS REACHED LIMIT.\n",
      "\n",
      "Increase the number of iterations (max_iter) or scale the data as shown in:\n",
      "    https://scikit-learn.org/stable/modules/preprocessing.html\n",
      "Please also refer to the documentation for alternative solver options:\n",
      "    https://scikit-learn.org/stable/modules/linear_model.html#logistic-regression\n",
      "\n"
     ]
    }
   ],
   "source": [
    "from sklearn import datasets \n",
    "from sklearn.neighbors import KNeighborsClassifier \n",
    "from sklearn.ensemble import VotingClassifier\n",
    "\n",
    " \n",
    "X3,y3= datasets.load_breast_cancer(return_X_y = True)\n",
    " \n",
    "X3_train, X3_test, y3_train, y3_test = train_test_split(X3, y3, test_size=0.2, random_state=42)\n",
    " \n",
    "LogReg = LogisticRegression() \n",
    "KNN=KNeighborsClassifier(n_neighbors = 4) \n",
    "dt = DecisionTreeClassifier(criterion='gini', max_depth= 6, min_samples_leaf = 1)\n",
    " \n",
    "classifiers = [ ('Logistic Regression', LogReg), \n",
    "('KNeighbors', KNN), \n",
    "('Decision Tree', dt) \n",
    "]\n",
    " \n",
    "for name, model in classifiers: \n",
    "     model.fit(X3_train, y3_train) \n",
    "     y_pred2 = model.predict(X3_test) \n",
    "     acc = accuracy_score(y3_test, y_pred2) \n",
    "     print(name, acc)"
   ]
  },
  {
   "cell_type": "code",
   "execution_count": 199,
   "metadata": {},
   "outputs": [
    {
     "name": "stdout",
     "output_type": "stream",
     "text": [
      "Voting Classifier:  0.956140350877193\n"
     ]
    },
    {
     "name": "stderr",
     "output_type": "stream",
     "text": [
      "C:\\Users\\sinan\\AppData\\Local\\Programs\\Python\\Python39\\lib\\site-packages\\sklearn\\linear_model\\_logistic.py:814: ConvergenceWarning:\n",
      "\n",
      "lbfgs failed to converge (status=1):\n",
      "STOP: TOTAL NO. of ITERATIONS REACHED LIMIT.\n",
      "\n",
      "Increase the number of iterations (max_iter) or scale the data as shown in:\n",
      "    https://scikit-learn.org/stable/modules/preprocessing.html\n",
      "Please also refer to the documentation for alternative solver options:\n",
      "    https://scikit-learn.org/stable/modules/linear_model.html#logistic-regression\n",
      "\n"
     ]
    }
   ],
   "source": [
    "# voting classifier\n",
    "\n",
    "vc = VotingClassifier(estimators = classifiers, voting = 'hard')\n",
    " \n",
    "vc.fit(X3_train, y3_train)\n",
    " \n",
    "y_pred2 = vc.predict(X3_test)\n",
    " \n",
    "vc_acc = accuracy_score(y3_test, y_pred2)\n",
    "print(\"Voting Classifier: \", vc_acc)"
   ]
  }
 ],
 "metadata": {
  "interpreter": {
   "hash": "b66e5ed85772ebbc205b31ff55b98fa2347aeae40f326cf9f3f7a3cb0886df6d"
  },
  "kernelspec": {
   "display_name": "Python 3.9.7 64-bit",
   "name": "python3"
  },
  "language_info": {
   "codemirror_mode": {
    "name": "ipython",
    "version": 3
   },
   "file_extension": ".py",
   "mimetype": "text/x-python",
   "name": "python",
   "nbconvert_exporter": "python",
   "pygments_lexer": "ipython3",
   "version": "3.9.7"
  }
 },
 "nbformat": 4,
 "nbformat_minor": 5
}
